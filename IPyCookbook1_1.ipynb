{
 "metadata": {
  "name": "",
  "signature": "sha256:271e3f12a0281009eca9752eb6c0ee9e694c8d0fc79e76da1c188a2f95ead85f"
 },
 "nbformat": 3,
 "nbformat_minor": 0,
 "worksheets": [
  {
   "cells": [
    {
     "cell_type": "code",
     "collapsed": false,
     "input": [
      "import numpy as np\n",
      "import pandas as pd\n",
      "import matplotlib.pyplot as plt\n",
      "import random\n",
      "%matplotlib inline"
     ],
     "language": "python",
     "metadata": {},
     "outputs": [],
     "prompt_number": 14
    },
    {
     "cell_type": "code",
     "collapsed": false,
     "input": [
      "url=\"http://donnees.ville.montreal.qc.ca/storage/f/2014-01-20T20%3A48%3A50.296Z/2013.csv\"\n",
      "url"
     ],
     "language": "python",
     "metadata": {},
     "outputs": [
      {
       "metadata": {},
       "output_type": "pyout",
       "prompt_number": 2,
       "text": [
        "'http://donnees.ville.montreal.qc.ca/storage/f/2014-01-20T20%3A48%3A50.296Z/2013.csv'"
       ]
      }
     ],
     "prompt_number": 2
    },
    {
     "cell_type": "code",
     "collapsed": false,
     "input": [
      "df = pd.read_csv(url,index_col='Date',parse_dates=True, dayfirst=True)"
     ],
     "language": "python",
     "metadata": {},
     "outputs": [],
     "prompt_number": 3
    },
    {
     "cell_type": "code",
     "collapsed": false,
     "input": [
      "df.head(3)"
     ],
     "language": "python",
     "metadata": {},
     "outputs": [
      {
       "html": [
        "<div style=\"max-height:1000px;max-width:1500px;overflow:auto;\">\n",
        "<table border=\"1\" class=\"dataframe\">\n",
        "  <thead>\n",
        "    <tr style=\"text-align: right;\">\n",
        "      <th></th>\n",
        "      <th>Unnamed: 1</th>\n",
        "      <th>Berri1</th>\n",
        "      <th>CSC</th>\n",
        "      <th>Mais1</th>\n",
        "      <th>Mais2</th>\n",
        "      <th>Parc</th>\n",
        "      <th>PierDup</th>\n",
        "      <th>Rachel1</th>\n",
        "      <th>Totem_Laurier</th>\n",
        "    </tr>\n",
        "    <tr>\n",
        "      <th>Date</th>\n",
        "      <th></th>\n",
        "      <th></th>\n",
        "      <th></th>\n",
        "      <th></th>\n",
        "      <th></th>\n",
        "      <th></th>\n",
        "      <th></th>\n",
        "      <th></th>\n",
        "      <th></th>\n",
        "    </tr>\n",
        "  </thead>\n",
        "  <tbody>\n",
        "    <tr>\n",
        "      <th>2013-01-01</th>\n",
        "      <td> 00:00</td>\n",
        "      <td>  0</td>\n",
        "      <td> 0</td>\n",
        "      <td>  1</td>\n",
        "      <td> 0</td>\n",
        "      <td>  6</td>\n",
        "      <td> 0</td>\n",
        "      <td> 1</td>\n",
        "      <td> 0</td>\n",
        "    </tr>\n",
        "    <tr>\n",
        "      <th>2013-01-02</th>\n",
        "      <td> 00:00</td>\n",
        "      <td> 69</td>\n",
        "      <td> 0</td>\n",
        "      <td> 13</td>\n",
        "      <td> 0</td>\n",
        "      <td> 18</td>\n",
        "      <td> 0</td>\n",
        "      <td> 2</td>\n",
        "      <td> 0</td>\n",
        "    </tr>\n",
        "    <tr>\n",
        "      <th>2013-01-03</th>\n",
        "      <td> 00:00</td>\n",
        "      <td> 69</td>\n",
        "      <td> 2</td>\n",
        "      <td> 21</td>\n",
        "      <td> 6</td>\n",
        "      <td> 22</td>\n",
        "      <td> 1</td>\n",
        "      <td> 0</td>\n",
        "      <td> 0</td>\n",
        "    </tr>\n",
        "  </tbody>\n",
        "</table>\n",
        "</div>"
       ],
       "metadata": {},
       "output_type": "pyout",
       "prompt_number": 4,
       "text": [
        "           Unnamed: 1  Berri1  CSC  Mais1  Mais2  Parc  PierDup  Rachel1  \\\n",
        "Date                                                                       \n",
        "2013-01-01      00:00       0    0      1      0     6        0        1   \n",
        "2013-01-02      00:00      69    0     13      0    18        0        2   \n",
        "2013-01-03      00:00      69    2     21      6    22        1        0   \n",
        "\n",
        "            Totem_Laurier  \n",
        "Date                       \n",
        "2013-01-01              0  \n",
        "2013-01-02              0  \n",
        "2013-01-03              0  "
       ]
      }
     ],
     "prompt_number": 4
    },
    {
     "cell_type": "code",
     "collapsed": false,
     "input": [
      "df.describe()"
     ],
     "language": "python",
     "metadata": {},
     "outputs": [
      {
       "html": [
        "<div style=\"max-height:1000px;max-width:1500px;overflow:auto;\">\n",
        "<table border=\"1\" class=\"dataframe\">\n",
        "  <thead>\n",
        "    <tr style=\"text-align: right;\">\n",
        "      <th></th>\n",
        "      <th>Berri1</th>\n",
        "      <th>CSC</th>\n",
        "      <th>Mais1</th>\n",
        "      <th>Mais2</th>\n",
        "      <th>Parc</th>\n",
        "      <th>PierDup</th>\n",
        "      <th>Rachel1</th>\n",
        "      <th>Totem_Laurier</th>\n",
        "    </tr>\n",
        "  </thead>\n",
        "  <tbody>\n",
        "    <tr>\n",
        "      <th>count</th>\n",
        "      <td>  261.000000</td>\n",
        "      <td>  261.000000</td>\n",
        "      <td>  261.000000</td>\n",
        "      <td>  261.000000</td>\n",
        "      <td>  261.000000</td>\n",
        "      <td>  261.000000</td>\n",
        "      <td>  261.000000</td>\n",
        "      <td>  261.000000</td>\n",
        "    </tr>\n",
        "    <tr>\n",
        "      <th>mean</th>\n",
        "      <td> 2743.390805</td>\n",
        "      <td> 1221.858238</td>\n",
        "      <td> 1757.590038</td>\n",
        "      <td> 3224.130268</td>\n",
        "      <td> 1669.425287</td>\n",
        "      <td> 1152.885057</td>\n",
        "      <td> 3084.425287</td>\n",
        "      <td> 1858.793103</td>\n",
        "    </tr>\n",
        "    <tr>\n",
        "      <th>std</th>\n",
        "      <td> 2247.957848</td>\n",
        "      <td> 1070.037364</td>\n",
        "      <td> 1458.793882</td>\n",
        "      <td> 2589.514354</td>\n",
        "      <td> 1363.738862</td>\n",
        "      <td> 1208.848429</td>\n",
        "      <td> 2380.255540</td>\n",
        "      <td> 1434.899574</td>\n",
        "    </tr>\n",
        "    <tr>\n",
        "      <th>min</th>\n",
        "      <td>    0.000000</td>\n",
        "      <td>    0.000000</td>\n",
        "      <td>    1.000000</td>\n",
        "      <td>    0.000000</td>\n",
        "      <td>    6.000000</td>\n",
        "      <td>    0.000000</td>\n",
        "      <td>    0.000000</td>\n",
        "      <td>    0.000000</td>\n",
        "    </tr>\n",
        "    <tr>\n",
        "      <th>25%</th>\n",
        "      <td>  392.000000</td>\n",
        "      <td>   12.000000</td>\n",
        "      <td>  236.000000</td>\n",
        "      <td>  516.000000</td>\n",
        "      <td>  222.000000</td>\n",
        "      <td>   12.000000</td>\n",
        "      <td>  451.000000</td>\n",
        "      <td>  340.000000</td>\n",
        "    </tr>\n",
        "    <tr>\n",
        "      <th>50%</th>\n",
        "      <td> 2771.000000</td>\n",
        "      <td> 1184.000000</td>\n",
        "      <td> 1706.000000</td>\n",
        "      <td> 3178.000000</td>\n",
        "      <td> 1584.000000</td>\n",
        "      <td>  818.000000</td>\n",
        "      <td> 3111.000000</td>\n",
        "      <td> 2087.000000</td>\n",
        "    </tr>\n",
        "    <tr>\n",
        "      <th>75%</th>\n",
        "      <td> 4767.000000</td>\n",
        "      <td> 2168.000000</td>\n",
        "      <td> 3158.000000</td>\n",
        "      <td> 5812.000000</td>\n",
        "      <td> 3068.000000</td>\n",
        "      <td> 2104.000000</td>\n",
        "      <td> 5338.000000</td>\n",
        "      <td> 3168.000000</td>\n",
        "    </tr>\n",
        "    <tr>\n",
        "      <th>max</th>\n",
        "      <td> 6803.000000</td>\n",
        "      <td> 3330.000000</td>\n",
        "      <td> 4716.000000</td>\n",
        "      <td> 7684.000000</td>\n",
        "      <td> 4103.000000</td>\n",
        "      <td> 4841.000000</td>\n",
        "      <td> 8555.000000</td>\n",
        "      <td> 4293.000000</td>\n",
        "    </tr>\n",
        "  </tbody>\n",
        "</table>\n",
        "</div>"
       ],
       "metadata": {},
       "output_type": "pyout",
       "prompt_number": 5,
       "text": [
        "            Berri1          CSC        Mais1        Mais2         Parc  \\\n",
        "count   261.000000   261.000000   261.000000   261.000000   261.000000   \n",
        "mean   2743.390805  1221.858238  1757.590038  3224.130268  1669.425287   \n",
        "std    2247.957848  1070.037364  1458.793882  2589.514354  1363.738862   \n",
        "min       0.000000     0.000000     1.000000     0.000000     6.000000   \n",
        "25%     392.000000    12.000000   236.000000   516.000000   222.000000   \n",
        "50%    2771.000000  1184.000000  1706.000000  3178.000000  1584.000000   \n",
        "75%    4767.000000  2168.000000  3158.000000  5812.000000  3068.000000   \n",
        "max    6803.000000  3330.000000  4716.000000  7684.000000  4103.000000   \n",
        "\n",
        "           PierDup      Rachel1  Totem_Laurier  \n",
        "count   261.000000   261.000000     261.000000  \n",
        "mean   1152.885057  3084.425287    1858.793103  \n",
        "std    1208.848429  2380.255540    1434.899574  \n",
        "min       0.000000     0.000000       0.000000  \n",
        "25%      12.000000   451.000000     340.000000  \n",
        "50%     818.000000  3111.000000    2087.000000  \n",
        "75%    2104.000000  5338.000000    3168.000000  \n",
        "max    4841.000000  8555.000000    4293.000000  "
       ]
      }
     ],
     "prompt_number": 5
    },
    {
     "cell_type": "code",
     "collapsed": false,
     "input": [
      "df[['Berri1','PierDup']].plot()"
     ],
     "language": "python",
     "metadata": {},
     "outputs": [
      {
       "metadata": {},
       "output_type": "pyout",
       "prompt_number": 6,
       "text": [
        "<matplotlib.axes._subplots.AxesSubplot at 0x8b21198>"
       ]
      },
      {
       "metadata": {},
       "output_type": "display_data",
       "png": "[encoded data removed]",
       "text": [
        "<matplotlib.figure.Figure at 0x8b04438>"
       ]
      }
     ],
     "prompt_number": 6
    },
    {
     "cell_type": "code",
     "collapsed": false,
     "input": [
      "days = np.array(['Monday','Tuesday','Wednesday','Thursday','Friday','Saturday','Sunday'])\n",
      "df['Weekday'] = days[df.index.weekday]"
     ],
     "language": "python",
     "metadata": {},
     "outputs": [],
     "prompt_number": 7
    },
    {
     "cell_type": "code",
     "collapsed": false,
     "input": [
      "df_week=df.groupby('Weekday').sum()\n",
      "df_week"
     ],
     "language": "python",
     "metadata": {},
     "outputs": [
      {
       "html": [
        "<div style=\"max-height:1000px;max-width:1500px;overflow:auto;\">\n",
        "<table border=\"1\" class=\"dataframe\">\n",
        "  <thead>\n",
        "    <tr style=\"text-align: right;\">\n",
        "      <th></th>\n",
        "      <th>Berri1</th>\n",
        "      <th>CSC</th>\n",
        "      <th>Mais1</th>\n",
        "      <th>Mais2</th>\n",
        "      <th>Parc</th>\n",
        "      <th>PierDup</th>\n",
        "      <th>Rachel1</th>\n",
        "      <th>Totem_Laurier</th>\n",
        "    </tr>\n",
        "    <tr>\n",
        "      <th>Weekday</th>\n",
        "      <th></th>\n",
        "      <th></th>\n",
        "      <th></th>\n",
        "      <th></th>\n",
        "      <th></th>\n",
        "      <th></th>\n",
        "      <th></th>\n",
        "      <th></th>\n",
        "    </tr>\n",
        "  </thead>\n",
        "  <tbody>\n",
        "    <tr>\n",
        "      <th>Friday</th>\n",
        "      <td> 105701</td>\n",
        "      <td> 44252</td>\n",
        "      <td> 71605</td>\n",
        "      <td> 127526</td>\n",
        "      <td> 64385</td>\n",
        "      <td> 36850</td>\n",
        "      <td> 118556</td>\n",
        "      <td> 71426</td>\n",
        "    </tr>\n",
        "    <tr>\n",
        "      <th>Monday</th>\n",
        "      <td> 106826</td>\n",
        "      <td> 51646</td>\n",
        "      <td> 68087</td>\n",
        "      <td> 129982</td>\n",
        "      <td> 69767</td>\n",
        "      <td> 44500</td>\n",
        "      <td> 119211</td>\n",
        "      <td> 72883</td>\n",
        "    </tr>\n",
        "    <tr>\n",
        "      <th>Saturday</th>\n",
        "      <td>  75754</td>\n",
        "      <td> 27226</td>\n",
        "      <td> 45947</td>\n",
        "      <td>  79743</td>\n",
        "      <td> 35544</td>\n",
        "      <td> 46149</td>\n",
        "      <td>  97143</td>\n",
        "      <td> 56438</td>\n",
        "    </tr>\n",
        "    <tr>\n",
        "      <th>Sunday</th>\n",
        "      <td>  74873</td>\n",
        "      <td> 29181</td>\n",
        "      <td> 40812</td>\n",
        "      <td>  75746</td>\n",
        "      <td> 37620</td>\n",
        "      <td> 53812</td>\n",
        "      <td> 100735</td>\n",
        "      <td> 53798</td>\n",
        "    </tr>\n",
        "    <tr>\n",
        "      <th>Thursday</th>\n",
        "      <td> 115193</td>\n",
        "      <td> 52340</td>\n",
        "      <td> 76273</td>\n",
        "      <td> 141424</td>\n",
        "      <td> 73668</td>\n",
        "      <td> 36349</td>\n",
        "      <td> 120684</td>\n",
        "      <td> 74540</td>\n",
        "    </tr>\n",
        "    <tr>\n",
        "      <th>Tuesday</th>\n",
        "      <td> 117244</td>\n",
        "      <td> 54656</td>\n",
        "      <td> 76974</td>\n",
        "      <td> 141217</td>\n",
        "      <td> 74299</td>\n",
        "      <td> 40679</td>\n",
        "      <td> 123533</td>\n",
        "      <td> 76559</td>\n",
        "    </tr>\n",
        "    <tr>\n",
        "      <th>Wednesday</th>\n",
        "      <td> 120434</td>\n",
        "      <td> 59604</td>\n",
        "      <td> 79033</td>\n",
        "      <td> 145860</td>\n",
        "      <td> 80437</td>\n",
        "      <td> 42564</td>\n",
        "      <td> 125173</td>\n",
        "      <td> 79501</td>\n",
        "    </tr>\n",
        "  </tbody>\n",
        "</table>\n",
        "</div>"
       ],
       "metadata": {},
       "output_type": "pyout",
       "prompt_number": 8,
       "text": [
        "           Berri1    CSC  Mais1   Mais2   Parc  PierDup  Rachel1  \\\n",
        "Weekday                                                            \n",
        "Friday     105701  44252  71605  127526  64385    36850   118556   \n",
        "Monday     106826  51646  68087  129982  69767    44500   119211   \n",
        "Saturday    75754  27226  45947   79743  35544    46149    97143   \n",
        "Sunday      74873  29181  40812   75746  37620    53812   100735   \n",
        "Thursday   115193  52340  76273  141424  73668    36349   120684   \n",
        "Tuesday    117244  54656  76974  141217  74299    40679   123533   \n",
        "Wednesday  120434  59604  79033  145860  80437    42564   125173   \n",
        "\n",
        "           Totem_Laurier  \n",
        "Weekday                   \n",
        "Friday             71426  \n",
        "Monday             72883  \n",
        "Saturday           56438  \n",
        "Sunday             53798  \n",
        "Thursday           74540  \n",
        "Tuesday            76559  \n",
        "Wednesday          79501  "
       ]
      }
     ],
     "prompt_number": 8
    },
    {
     "cell_type": "code",
     "collapsed": false,
     "input": [
      "df_week.ix[days].plot(lw=3)\n",
      "plt.ylim(0);"
     ],
     "language": "python",
     "metadata": {},
     "outputs": [
      {
       "metadata": {},
       "output_type": "display_data",
       "png": "[encoded data removed]",
       "text": [
        "<matplotlib.figure.Figure at 0x8bad128>"
       ]
      }
     ],
     "prompt_number": 9
    },
    {
     "cell_type": "code",
     "collapsed": false,
     "input": [
      "from IPython.html.widgets import interact\n",
      "@interact\n",
      "def plot(n=(1,30)):\n",
      "    pd.rolling_mean(df['Berri1'],n).dropna().plot()\n",
      "    #plt.ylim(0,8000)\n",
      "    #plt.show()"
     ],
     "language": "python",
     "metadata": {},
     "outputs": [
      {
       "metadata": {},
       "output_type": "display_data",
       "png": "[encoded data removed]",
       "text": [
        "<matplotlib.figure.Figure at 0x8f8ae80>"
       ]
      }
     ],
     "prompt_number": 10
    },
    {
     "cell_type": "code",
     "collapsed": false,
     "input": [
      "!dir"
     ],
     "language": "python",
     "metadata": {},
     "outputs": [
      {
       "output_type": "stream",
       "stream": "stdout",
       "text": [
        " Volume in drive C has no label.\n",
        " Volume Serial Number is 4EED-79AC\n",
        "\n",
        " Directory of C:\\Users\\Johnson\\PycharmProjects\\Py34Prj\n",
        "\n",
        "03/13/2015  04:52 PM    <DIR>          .\n",
        "03/13/2015  04:52 PM    <DIR>          ..\n",
        "03/13/2015  12:36 PM    <DIR>          .idea\n",
        "03/13/2015  04:46 PM    <DIR>          .ipynb_checkpoints\n",
        "03/13/2015  04:59 PM           304,900 IPyCookbook1_1.html\n",
        "03/13/2015  04:59 PM           121,236 IPyCookbook1_1.ipynb\n",
        "               2 File(s)        426,136 bytes\n",
        "               4 Dir(s)  13,950,984,192 bytes free\n"
       ]
      }
     ],
     "prompt_number": 11
    },
    {
     "cell_type": "code",
     "collapsed": false,
     "input": [
      "#!ipython nbconvert \"C:\\Users\\Johnson\\PycharmProjects\\Py34Prj\\IPyCookbook1_1.ipynb\""
     ],
     "language": "python",
     "metadata": {},
     "outputs": [
      {
       "output_type": "stream",
       "stream": "stderr",
       "text": [
        "[NbConvertApp] Using existing profile dir: 'C:\\\\Users\\\\Johnson\\\\.ipython\\\\profile_default'\n",
        "[NbConvertApp] Converting notebook C:\\Users\\Johnson\\PycharmProjects\\Py34Prj\\IPyCookbook1_1.ipynb to html\n",
        "[NbConvertApp] Support files will be in IPyCookbook1_1_files\\\n",
        "[NbConvertApp] Loaded template full.tpl\n",
        "[NbConvertApp] Writing 301238 bytes to IPyCookbook1_1.html\n"
       ]
      }
     ],
     "prompt_number": 12
    },
    {
     "cell_type": "code",
     "collapsed": false,
     "input": [
      "!dir"
     ],
     "language": "python",
     "metadata": {},
     "outputs": [
      {
       "output_type": "stream",
       "stream": "stdout",
       "text": [
        " Volume in drive C has no label.\n",
        " Volume Serial Number is 4EED-79AC\n",
        "\n",
        " Directory of C:\\Users\\Johnson\\PycharmProjects\\Py34Prj\n",
        "\n",
        "03/13/2015  04:52 PM    <DIR>          .\n",
        "03/13/2015  04:52 PM    <DIR>          ..\n",
        "03/13/2015  12:36 PM    <DIR>          .idea\n",
        "03/13/2015  04:46 PM    <DIR>          .ipynb_checkpoints\n",
        "03/14/2015  09:53 AM           304,900 IPyCookbook1_1.html\n",
        "03/13/2015  04:59 PM           121,236 IPyCookbook1_1.ipynb\n",
        "               2 File(s)        426,136 bytes\n",
        "               4 Dir(s)  13,950,984,192 bytes free\n"
       ]
      }
     ],
     "prompt_number": 13
    },
    {
     "cell_type": "code",
     "collapsed": false,
     "input": [
      "%precision 3"
     ],
     "language": "python",
     "metadata": {},
     "outputs": [
      {
       "metadata": {},
       "output_type": "pyout",
       "prompt_number": 15,
       "text": [
        "'%.3f'"
       ]
      }
     ],
     "prompt_number": 15
    },
    {
     "cell_type": "code",
     "collapsed": false,
     "input": [
      "n=1000000\n",
      "x=[random.random() for _ in range(n)]\n",
      "y=[random.random() for _ in range(n)]\n",
      "z= [x[i]+y[i] for i in range(n)]"
     ],
     "language": "python",
     "metadata": {},
     "outputs": [],
     "prompt_number": 24
    },
    {
     "cell_type": "code",
     "collapsed": false,
     "input": [
      "x[:3], y[:3], z[:3]"
     ],
     "language": "python",
     "metadata": {},
     "outputs": [
      {
       "metadata": {},
       "output_type": "pyout",
       "prompt_number": 25,
       "text": [
        "([0.519, 0.059, 0.296], [0.653, 0.302, 0.928], [1.173, 0.360, 1.224])"
       ]
      }
     ],
     "prompt_number": 25
    },
    {
     "cell_type": "code",
     "collapsed": false,
     "input": [
      "%timeit [x[i]+y[i] for i in range(n)]"
     ],
     "language": "python",
     "metadata": {},
     "outputs": [
      {
       "output_type": "stream",
       "stream": "stdout",
       "text": [
        "1 loops, best of 3: 821 ms per loop\n"
       ]
      }
     ],
     "prompt_number": 27
    },
    {
     "cell_type": "code",
     "collapsed": false,
     "input": [
      "xa = np.array(x)\n",
      "ya = np.array(y)\n",
      "za = xa +ya"
     ],
     "language": "python",
     "metadata": {},
     "outputs": [],
     "prompt_number": 28
    },
    {
     "cell_type": "code",
     "collapsed": false,
     "input": [
      "za[:3]"
     ],
     "language": "python",
     "metadata": {},
     "outputs": [
      {
       "metadata": {},
       "output_type": "pyout",
       "prompt_number": 29,
       "text": [
        "array([ 1.173,  0.36 ,  1.224])"
       ]
      }
     ],
     "prompt_number": 29
    },
    {
     "cell_type": "code",
     "collapsed": false,
     "input": [
      "%timeit xa +ya\n",
      "za[:3]"
     ],
     "language": "python",
     "metadata": {},
     "outputs": [
      {
       "output_type": "stream",
       "stream": "stdout",
       "text": [
        "100 loops, best of 3: 14.9 ms per loop\n"
       ]
      },
      {
       "metadata": {},
       "output_type": "pyout",
       "prompt_number": 30,
       "text": [
        "array([ 1.173,  0.36 ,  1.224])"
       ]
      }
     ],
     "prompt_number": 30
    },
    {
     "cell_type": "code",
     "collapsed": false,
     "input": [
      "%timeit sum(x)\n",
      "%timeit np.sum(xa)"
     ],
     "language": "python",
     "metadata": {},
     "outputs": [
      {
       "output_type": "stream",
       "stream": "stdout",
       "text": [
        "10 loops, best of 3: 21.8 ms per loop\n",
        "100 loops, best of 3: 4.1 ms per loop"
       ]
      },
      {
       "output_type": "stream",
       "stream": "stdout",
       "text": [
        "\n"
       ]
      }
     ],
     "prompt_number": 31
    },
    {
     "cell_type": "code",
     "collapsed": false,
     "input": [
      "import IPython\n",
      "IPython.__version__"
     ],
     "language": "python",
     "metadata": {},
     "outputs": [
      {
       "metadata": {},
       "output_type": "pyout",
       "prompt_number": 35,
       "text": [
        "'2.2.0'"
       ]
      }
     ],
     "prompt_number": 35
    },
    {
     "cell_type": "code",
     "collapsed": false,
     "input": [],
     "language": "python",
     "metadata": {},
     "outputs": []
    }
   ],
   "metadata": {}
  }
 ]
}